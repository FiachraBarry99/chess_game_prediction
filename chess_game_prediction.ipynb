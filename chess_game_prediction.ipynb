{
 "cells": [
  {
   "cell_type": "code",
   "execution_count": 219,
   "metadata": {},
   "outputs": [
    {
     "name": "stdout",
     "output_type": "stream",
     "text": [
      "(15932, 13)\n"
     ]
    }
   ],
   "source": [
    "import seaborn as sns\n",
    "import pandas as pd\n",
    "import numpy as np\n",
    "import matplotlib.pyplot as plt\n",
    "\n",
    "pd.set_option(\"display.precision\", 2)\n",
    "df = pd.read_csv('ChessOdds\\Database\\games_clean.csv')\n",
    "df.dropna(inplace = True)\n",
    "print(df.shape)"
   ]
  },
  {
   "cell_type": "code",
   "execution_count": 220,
   "metadata": {},
   "outputs": [
    {
     "data": {
      "text/html": [
       "<div>\n",
       "<style scoped>\n",
       "    .dataframe tbody tr th:only-of-type {\n",
       "        vertical-align: middle;\n",
       "    }\n",
       "\n",
       "    .dataframe tbody tr th {\n",
       "        vertical-align: top;\n",
       "    }\n",
       "\n",
       "    .dataframe thead th {\n",
       "        text-align: right;\n",
       "    }\n",
       "</style>\n",
       "<table border=\"1\" class=\"dataframe\">\n",
       "  <thead>\n",
       "    <tr style=\"text-align: right;\">\n",
       "      <th></th>\n",
       "      <th>turns</th>\n",
       "      <th>victory_status</th>\n",
       "      <th>result</th>\n",
       "      <th>increment_code</th>\n",
       "      <th>white_id</th>\n",
       "      <th>white_rating</th>\n",
       "      <th>black_id</th>\n",
       "      <th>black_rating</th>\n",
       "      <th>moves</th>\n",
       "      <th>opening_eco</th>\n",
       "      <th>opening_name</th>\n",
       "      <th>opening_ply</th>\n",
       "      <th>rating_diff</th>\n",
       "    </tr>\n",
       "  </thead>\n",
       "  <tbody>\n",
       "    <tr>\n",
       "      <td>0</td>\n",
       "      <td>4.0</td>\n",
       "      <td>outoftime</td>\n",
       "      <td>0.0</td>\n",
       "      <td>15+15</td>\n",
       "      <td>rustam9</td>\n",
       "      <td>945.0</td>\n",
       "      <td>b3nszy</td>\n",
       "      <td>1070.0</td>\n",
       "      <td>e4 e5 Nf3 Bd6</td>\n",
       "      <td>C40</td>\n",
       "      <td>King's Knight Opening</td>\n",
       "      <td>3.0</td>\n",
       "      <td>-125.0</td>\n",
       "    </tr>\n",
       "    <tr>\n",
       "      <td>1</td>\n",
       "      <td>4.0</td>\n",
       "      <td>resign</td>\n",
       "      <td>0.0</td>\n",
       "      <td>15+15</td>\n",
       "      <td>skipskipskop</td>\n",
       "      <td>914.0</td>\n",
       "      <td>hill_j</td>\n",
       "      <td>1141.0</td>\n",
       "      <td>a4 e5 Ra3 Bxa3</td>\n",
       "      <td>A00</td>\n",
       "      <td>Ware Opening</td>\n",
       "      <td>1.0</td>\n",
       "      <td>-227.0</td>\n",
       "    </tr>\n",
       "    <tr>\n",
       "      <td>2</td>\n",
       "      <td>4.0</td>\n",
       "      <td>resign</td>\n",
       "      <td>1.0</td>\n",
       "      <td>8+0</td>\n",
       "      <td>w-j</td>\n",
       "      <td>1758.0</td>\n",
       "      <td>slon-al</td>\n",
       "      <td>1804.0</td>\n",
       "      <td>d4 Nf6 c4 e5</td>\n",
       "      <td>A51</td>\n",
       "      <td>Indian Game: Budapest Defense</td>\n",
       "      <td>4.0</td>\n",
       "      <td>-46.0</td>\n",
       "    </tr>\n",
       "    <tr>\n",
       "      <td>3</td>\n",
       "      <td>4.0</td>\n",
       "      <td>resign</td>\n",
       "      <td>0.0</td>\n",
       "      <td>30+0</td>\n",
       "      <td>mccheese</td>\n",
       "      <td>1026.0</td>\n",
       "      <td>bratt</td>\n",
       "      <td>1121.0</td>\n",
       "      <td>d4 d5 f3 e6</td>\n",
       "      <td>D00</td>\n",
       "      <td>Queen's Pawn Game</td>\n",
       "      <td>2.0</td>\n",
       "      <td>-95.0</td>\n",
       "    </tr>\n",
       "    <tr>\n",
       "      <td>4</td>\n",
       "      <td>4.0</td>\n",
       "      <td>resign</td>\n",
       "      <td>1.0</td>\n",
       "      <td>6+4</td>\n",
       "      <td>ruben11131</td>\n",
       "      <td>1804.0</td>\n",
       "      <td>chess_bros123</td>\n",
       "      <td>1372.0</td>\n",
       "      <td>e4 e5 Nf3 Nc6</td>\n",
       "      <td>C44</td>\n",
       "      <td>King's Knight Opening: Normal Variation</td>\n",
       "      <td>4.0</td>\n",
       "      <td>432.0</td>\n",
       "    </tr>\n",
       "  </tbody>\n",
       "</table>\n",
       "</div>"
      ],
      "text/plain": [
       "   turns victory_status  result increment_code      white_id  white_rating  \\\n",
       "0    4.0      outoftime     0.0          15+15       rustam9         945.0   \n",
       "1    4.0         resign     0.0          15+15  skipskipskop         914.0   \n",
       "2    4.0         resign     1.0            8+0           w-j        1758.0   \n",
       "3    4.0         resign     0.0           30+0      mccheese        1026.0   \n",
       "4    4.0         resign     1.0            6+4    ruben11131        1804.0   \n",
       "\n",
       "        black_id  black_rating           moves opening_eco  \\\n",
       "0         b3nszy        1070.0   e4 e5 Nf3 Bd6         C40   \n",
       "1         hill_j        1141.0  a4 e5 Ra3 Bxa3         A00   \n",
       "2        slon-al        1804.0    d4 Nf6 c4 e5         A51   \n",
       "3          bratt        1121.0     d4 d5 f3 e6         D00   \n",
       "4  chess_bros123        1372.0   e4 e5 Nf3 Nc6         C44   \n",
       "\n",
       "                              opening_name  opening_ply  rating_diff  \n",
       "0                    King's Knight Opening          3.0       -125.0  \n",
       "1                             Ware Opening          1.0       -227.0  \n",
       "2            Indian Game: Budapest Defense          4.0        -46.0  \n",
       "3                        Queen's Pawn Game          2.0        -95.0  \n",
       "4  King's Knight Opening: Normal Variation          4.0        432.0  "
      ]
     },
     "execution_count": 220,
     "metadata": {},
     "output_type": "execute_result"
    }
   ],
   "source": [
    "df.head()"
   ]
  },
  {
   "cell_type": "code",
   "execution_count": 204,
   "metadata": {},
   "outputs": [
    {
     "data": {
      "text/plain": [
       "<matplotlib.axes._subplots.AxesSubplot at 0x21f80f839c8>"
      ]
     },
     "execution_count": 204,
     "metadata": {},
     "output_type": "execute_result"
    },
    {
     "data": {
      "image/png": "[encoded data removed]",
      "text/plain": [
       "<Figure size 432x288 with 1 Axes>"
      ]
     },
     "metadata": {
      "needs_background": "light"
     },
     "output_type": "display_data"
    }
   ],
   "source": [
    "from scipy.stats import norm\n",
    "sns.distplot(df['rating_diff'], axlabel = 'Rating Difference', fit = norm, bins = 30, kde = False, color = 'gray')"
   ]
  },
  {
   "cell_type": "code",
   "execution_count": 225,
   "metadata": {},
   "outputs": [
    {
     "data": {
      "text/plain": [
       "<matplotlib.axes._subplots.AxesSubplot at 0x21f833c40c8>"
      ]
     },
     "execution_count": 225,
     "metadata": {},
     "output_type": "execute_result"
    },
    {
     "data": {
      "image/png": "[encoded data removed]",
      "text/plain": [
       "<Figure size 432x288 with 1 Axes>"
      ]
     },
     "metadata": {
      "needs_background": "light"
     },
     "output_type": "display_data"
    }
   ],
   "source": [
    "df['mean_rating'] = (df['white_rating'] + df['black_rating'])/2\n",
    "sns.distplot(df['mean_rating'], axlabel = 'Mean Rating', fit = norm, bins = 30, kde = False, color = 'gray')"
   ]
  },
  {
   "cell_type": "code",
   "execution_count": 274,
   "metadata": {},
   "outputs": [
    {
     "data": {
      "image/png": "[encoded data removed]",
      "text/plain": [
       "<Figure size 432x288 with 1 Axes>"
      ]
     },
     "metadata": {
      "needs_background": "light"
     },
     "output_type": "display_data"
    }
   ],
   "source": [
    "ax = sns.regplot(data = df, x = 'rating_diff', y = 'result', color = 'grey', x_bins = 15, logistic = True)\n",
    "ax.set(xlabel='Rating Difference', ylabel='Result', title = 'All Ratings')\n",
    "ax.set_ylim([0,1])\n",
    "plt.show()"
   ]
  },
  {
   "cell_type": "code",
   "execution_count": 226,
   "metadata": {},
   "outputs": [
    {
     "data": {
      "text/html": [
       "<div>\n",
       "<style scoped>\n",
       "    .dataframe tbody tr th:only-of-type {\n",
       "        vertical-align: middle;\n",
       "    }\n",
       "\n",
       "    .dataframe tbody tr th {\n",
       "        vertical-align: top;\n",
       "    }\n",
       "\n",
       "    .dataframe thead th {\n",
       "        text-align: right;\n",
       "    }\n",
       "</style>\n",
       "<table border=\"1\" class=\"dataframe\">\n",
       "  <thead>\n",
       "    <tr style=\"text-align: right;\">\n",
       "      <th></th>\n",
       "      <th>turns</th>\n",
       "      <th>victory_status</th>\n",
       "      <th>result</th>\n",
       "      <th>increment_code</th>\n",
       "      <th>white_id</th>\n",
       "      <th>white_rating</th>\n",
       "      <th>black_id</th>\n",
       "      <th>black_rating</th>\n",
       "      <th>moves</th>\n",
       "      <th>opening_eco</th>\n",
       "      <th>opening_name</th>\n",
       "      <th>opening_ply</th>\n",
       "      <th>rating_diff</th>\n",
       "      <th>mean_rating</th>\n",
       "    </tr>\n",
       "  </thead>\n",
       "  <tbody>\n",
       "    <tr>\n",
       "      <td>5</td>\n",
       "      <td>4.0</td>\n",
       "      <td>resign</td>\n",
       "      <td>0.0</td>\n",
       "      <td>7+4</td>\n",
       "      <td>chessmaster987</td>\n",
       "      <td>1996.0</td>\n",
       "      <td>gmanderson</td>\n",
       "      <td>2193.0</td>\n",
       "      <td>f4 d5 Nf3 Nf6</td>\n",
       "      <td>A03</td>\n",
       "      <td>Bird Opening: Dutch Variation</td>\n",
       "      <td>2.0</td>\n",
       "      <td>-197.0</td>\n",
       "      <td>2094.5</td>\n",
       "    </tr>\n",
       "    <tr>\n",
       "      <td>15</td>\n",
       "      <td>4.0</td>\n",
       "      <td>outoftime</td>\n",
       "      <td>0.0</td>\n",
       "      <td>0+16</td>\n",
       "      <td>yht</td>\n",
       "      <td>2104.0</td>\n",
       "      <td>masterbigsuff</td>\n",
       "      <td>2081.0</td>\n",
       "      <td>e4 d5 f4 e6</td>\n",
       "      <td>A03</td>\n",
       "      <td>Bird Opening: Williams Gambit</td>\n",
       "      <td>3.0</td>\n",
       "      <td>23.0</td>\n",
       "      <td>2092.5</td>\n",
       "    </tr>\n",
       "    <tr>\n",
       "      <td>38</td>\n",
       "      <td>5.0</td>\n",
       "      <td>resign</td>\n",
       "      <td>1.0</td>\n",
       "      <td>8+0</td>\n",
       "      <td>chessbuzz17</td>\n",
       "      <td>2141.0</td>\n",
       "      <td>andrei70ster</td>\n",
       "      <td>2180.0</td>\n",
       "      <td>d4 g6 Bh6 Bg7 Bxg7</td>\n",
       "      <td>A40</td>\n",
       "      <td>Modern Defense</td>\n",
       "      <td>2.0</td>\n",
       "      <td>-39.0</td>\n",
       "      <td>2160.5</td>\n",
       "    </tr>\n",
       "    <tr>\n",
       "      <td>43</td>\n",
       "      <td>5.0</td>\n",
       "      <td>outoftime</td>\n",
       "      <td>1.0</td>\n",
       "      <td>150+0</td>\n",
       "      <td>omid27</td>\n",
       "      <td>2151.0</td>\n",
       "      <td>dr-muscle</td>\n",
       "      <td>1717.0</td>\n",
       "      <td>d4 d5 c4 Nf6 cxd5</td>\n",
       "      <td>D06</td>\n",
       "      <td>Queen's Gambit Refused: Marshall Defense</td>\n",
       "      <td>4.0</td>\n",
       "      <td>434.0</td>\n",
       "      <td>1934.0</td>\n",
       "    </tr>\n",
       "    <tr>\n",
       "      <td>54</td>\n",
       "      <td>6.0</td>\n",
       "      <td>resign</td>\n",
       "      <td>0.0</td>\n",
       "      <td>10+0</td>\n",
       "      <td>apicots</td>\n",
       "      <td>1500.0</td>\n",
       "      <td>babychess3</td>\n",
       "      <td>2113.0</td>\n",
       "      <td>e4 c5 Nf3 Nc6 Nc3 d6</td>\n",
       "      <td>B30</td>\n",
       "      <td>Sicilian Defense: Old Sicilian</td>\n",
       "      <td>4.0</td>\n",
       "      <td>-613.0</td>\n",
       "      <td>1806.5</td>\n",
       "    </tr>\n",
       "  </tbody>\n",
       "</table>\n",
       "</div>"
      ],
      "text/plain": [
       "    turns victory_status  result increment_code        white_id  white_rating  \\\n",
       "5     4.0         resign     0.0            7+4  chessmaster987        1996.0   \n",
       "15    4.0      outoftime     0.0           0+16             yht        2104.0   \n",
       "38    5.0         resign     1.0            8+0     chessbuzz17        2141.0   \n",
       "43    5.0      outoftime     1.0          150+0          omid27        2151.0   \n",
       "54    6.0         resign     0.0           10+0         apicots        1500.0   \n",
       "\n",
       "         black_id  black_rating                 moves opening_eco  \\\n",
       "5      gmanderson        2193.0         f4 d5 Nf3 Nf6         A03   \n",
       "15  masterbigsuff        2081.0           e4 d5 f4 e6         A03   \n",
       "38   andrei70ster        2180.0    d4 g6 Bh6 Bg7 Bxg7         A40   \n",
       "43      dr-muscle        1717.0     d4 d5 c4 Nf6 cxd5         D06   \n",
       "54     babychess3        2113.0  e4 c5 Nf3 Nc6 Nc3 d6         B30   \n",
       "\n",
       "                                opening_name  opening_ply  rating_diff  \\\n",
       "5              Bird Opening: Dutch Variation          2.0       -197.0   \n",
       "15             Bird Opening: Williams Gambit          3.0         23.0   \n",
       "38                            Modern Defense          2.0        -39.0   \n",
       "43  Queen's Gambit Refused: Marshall Defense          4.0        434.0   \n",
       "54            Sicilian Defense: Old Sicilian          4.0       -613.0   \n",
       "\n",
       "    mean_rating  \n",
       "5        2094.5  \n",
       "15       2092.5  \n",
       "38       2160.5  \n",
       "43       1934.0  \n",
       "54       1806.5  "
      ]
     },
     "execution_count": 226,
     "metadata": {},
     "output_type": "execute_result"
    }
   ],
   "source": [
    "df_high = df.loc[df['mean_rating'] >= 1800]\n",
    "df_high.head()"
   ]
  },
  {
   "cell_type": "code",
   "execution_count": 228,
   "metadata": {},
   "outputs": [
    {
     "data": {
      "image/png": "[encoded data removed]",
      "text/plain": [
       "<Figure size 432x288 with 1 Axes>"
      ]
     },
     "metadata": {
      "needs_background": "light"
     },
     "output_type": "display_data"
    }
   ],
   "source": [
    "ax = sns.regplot(data = df_high, x = 'rating_diff', y = 'result', color = 'grey', x_bins = 15, logistic = True)\n",
    "ax.set(xlabel='Rating Difference', ylabel='Result', title = 'High Ratings Only (>1800)')\n",
    "ax.set_ylim([0,1])\n",
    "plt.show()"
   ]
  },
  {
   "cell_type": "code",
   "execution_count": 86,
   "metadata": {},
   "outputs": [
    {
     "name": "stdout",
     "output_type": "stream",
     "text": [
      "Optimization terminated successfully.\n",
      "         Current function value: 0.619089\n",
      "         Iterations 5\n",
      "                         Results: Logit\n",
      "=================================================================\n",
      "Model:              Logit            Pseudo R-squared: 0.106     \n",
      "Dependent Variable: result           AIC:              19728.6463\n",
      "Date:               2021-01-21 13:14 BIC:              19736.3223\n",
      "No. Observations:   15932            Log-Likelihood:   -9863.3   \n",
      "Df Model:           0                LL-Null:          -11029.   \n",
      "Df Residuals:       15931            LLR p-value:      nan       \n",
      "Converged:          1.0000           Scale:            1.0000    \n",
      "No. Iterations:     5.0000                                       \n",
      "------------------------------------------------------------------\n",
      "                 Coef.   Std.Err.     z     P>|z|   [0.025  0.975]\n",
      "------------------------------------------------------------------\n",
      "rating_diff      0.0042    0.0001  41.0222  0.0000  0.0040  0.0044\n",
      "=================================================================\n",
      "\n"
     ]
    }
   ],
   "source": [
    "import statsmodels.api as sm\n",
    "\n",
    "X = df['rating_diff']\n",
    "y = df['result']\n",
    "\n",
    "logit_model=sm.Logit(y,X)\n",
    "result=logit_model.fit()\n",
    "print(result.summary2())"
   ]
  },
  {
   "cell_type": "code",
   "execution_count": 279,
   "metadata": {},
   "outputs": [
    {
     "name": "stdout",
     "output_type": "stream",
     "text": [
      "Accuracy of ordinal logistic regression classifier on test set: 62.41%  \n",
      "\n",
      "[[ 837    0  622]\n",
      " [  65    0   74]\n",
      " [ 437    0 1152]]\n",
      "\n",
      " Accuracy of categorical logistic regression classifier on test set: 62.38% \n",
      "\n",
      "[[ 841    0  618]\n",
      " [  65    0   74]\n",
      " [ 442    0 1147]]\n"
     ]
    }
   ],
   "source": [
    "from sklearn import metrics\n",
    "from sklearn.metrics import confusion_matrix\n",
    "from sklearn.model_selection import train_test_split\n",
    "from sklearn.linear_model import LogisticRegression\n",
    "import mord as mrd\n",
    "\n",
    "x = df['rating_diff'].values\n",
    "y = df['result'].values\n",
    "\n",
    "#converts y from 0, 0.5 and 1 to 0, 1 and 2 as mord.LogisticIT only takes integer values\n",
    "y = y*2\n",
    "y = y.astype(int)\n",
    "\n",
    "x_train, x_test, y_train, y_test = train_test_split(x, y, test_size=0.2, random_state=0)\n",
    "x_train = x_train.reshape(-1,1)\n",
    "x_test = x_test.reshape(-1,1)\n",
    "\n",
    "ord_model = mrd.LogisticIT().fit(x_train, y_train)\n",
    "y_pred_ord = ord_model.predict(x_test)\n",
    "ord_accuracy = ord_model.score(x_test, y_test)\n",
    "ord_cfm = confusion_matrix(y_test, y_pred_ord)\n",
    "\n",
    "cat_model = LogisticRegression(solver = 'lbfgs', multi_class = 'multinomial').fit(x_train, y_train)\n",
    "y_pred_cat = cat_model.predict(x_test)\n",
    "cat_accuracy = cat_model.score(x_test, y_test)\n",
    "cat_cfm = confusion_matrix(y_test, y_pred_cat)\n",
    "\n",
    "print('Accuracy of ordinal logistic regression classifier on test set: {:.2f}%  \\n'.format(ord_accuracy*100))\n",
    "print(ord_cfm)\n",
    "print('\\n Accuracy of categorical logistic regression classifier on test set: {:.2f}% \\n'.format(cat_accuracy*100))\n",
    "print(cat_cfm)"
   ]
  },
  {
   "cell_type": "code",
   "execution_count": 281,
   "metadata": {},
   "outputs": [
    {
     "name": "stdout",
     "output_type": "stream",
     "text": [
      "result: draw \n",
      "white win probability: 50.00 %\n"
     ]
    }
   ],
   "source": [
    "diff = -20.20734\n",
    "diff = np.array([diff]).reshape(1,-1)\n",
    "result = ord_model.predict_proba(diff)\n",
    "result = result[0]\n",
    "white_win_prob = result[2]*100\n",
    "\n",
    "if 0 <= white_win_prob < 33.33:\n",
    "    result = 'black'\n",
    "elif 33.33 <= white_win_prob < 66.67:\n",
    "    result = 'draw'\n",
    "elif 66.67 <= white_win_prob <= 100:\n",
    "    result = 'white'\n",
    "else:\n",
    "    result = 'error'\n",
    "    \n",
    "print(f'result: {result} \\n'\n",
    "    f'white win probability: {white_win_prob :.2f} %')"
   ]
  }
 ],
 "metadata": {
  "kernelspec": {
   "display_name": "Python 3",
   "language": "python",
   "name": "python3"
  },
  "language_info": {
   "codemirror_mode": {
    "name": "ipython",
    "version": 3
   },
   "file_extension": ".py",
   "mimetype": "text/x-python",
   "name": "python",
   "nbconvert_exporter": "python",
   "pygments_lexer": "ipython3",
   "version": "3.7.4"
  }
 },
 "nbformat": 4,
 "nbformat_minor": 4
}
